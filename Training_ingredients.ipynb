{
  "cells": [
    {
      "cell_type": "markdown",
      "metadata": {
        "id": "oJVIY7rDAi5m"
      },
      "source": [
        "#importing Dataset"
      ]
    },
    {
      "cell_type": "code",
      "execution_count": null,
      "metadata": {
        "colab": {
          "base_uri": "https://localhost:8080/"
        },
        "id": "cB_KAEIOvOFe",
        "outputId": "d6147f5d-cf9b-4f78-baa6-d36a370715fc"
      },
      "outputs": [
        {
          "name": "stdout",
          "output_type": "stream",
          "text": [
            "Drive already mounted at /content/drive; to attempt to forcibly remount, call drive.mount(\"/content/drive\", force_remount=True).\n"
          ]
        }
      ],
      "source": [
        "from google.colab import drive\n",
        "drive.mount('/content/drive')"
      ]
    },
    {
      "cell_type": "markdown",
      "metadata": {
        "id": "5Ib0zv0gv2Up"
      },
      "source": [
        "#importing libraries"
      ]
    },
    {
      "cell_type": "code",
      "execution_count": null,
      "metadata": {
        "id": "D7ej25K-v4SD"
      },
      "outputs": [],
      "source": [
        "import tensorflow as tf\n",
        "import matplotlib.pyplot as plt"
      ]
    },
    {
      "cell_type": "markdown",
      "metadata": {
        "id": "Y8UDfT9ZwLN1"
      },
      "source": [
        "#Data Preprocessing"
      ]
    },
    {
      "cell_type": "markdown",
      "metadata": {
        "id": "JlBeEFF2wXMb"
      },
      "source": [
        "##Training image preprocessing"
      ]
    },
    {
      "cell_type": "code",
      "execution_count": null,
      "metadata": {
        "colab": {
          "base_uri": "https://localhost:8080/"
        },
        "id": "nWhn_O_wwPgK",
        "outputId": "3be083c2-f2cd-4e0d-ea31-6671577de6e9"
      },
      "outputs": [
        {
          "name": "stdout",
          "output_type": "stream",
          "text": [
            "Found 4117 files belonging to 46 classes.\n"
          ]
        }
      ],
      "source": [
        "training_set = tf.keras.utils.image_dataset_from_directory(\n",
        "    '/content/drive/MyDrive/inswap_dataset/train',\n",
        "    labels=\"inferred\",\n",
        "    label_mode=\"categorical\",\n",
        "    class_names=None,\n",
        "    color_mode=\"rgb\",\n",
        "    batch_size=32,\n",
        "    image_size=(64, 64),\n",
        "    shuffle=True,\n",
        "    seed=None,\n",
        "    validation_split=None,\n",
        "    subset=None,\n",
        "    interpolation=\"bilinear\",\n",
        "    follow_links=False,\n",
        "    crop_to_aspect_ratio=False\n",
        ")"
      ]
    },
    {
      "cell_type": "markdown",
      "metadata": {
        "id": "83WZH3MS4QBE"
      },
      "source": [
        "#validation image preprocessing"
      ]
    },
    {
      "cell_type": "code",
      "execution_count": null,
      "metadata": {
        "colab": {
          "base_uri": "https://localhost:8080/"
        },
        "id": "S9-pRWXKx-hs",
        "outputId": "160e46ae-4145-45a5-b96d-76488d534271"
      },
      "outputs": [
        {
          "name": "stdout",
          "output_type": "stream",
          "text": [
            "Found 459 files belonging to 46 classes.\n"
          ]
        }
      ],
      "source": [
        "validation_set = tf.keras.utils.image_dataset_from_directory(\n",
        "    '/content/drive/MyDrive/inswap_dataset/validation',\n",
        "    labels=\"inferred\",\n",
        "    label_mode=\"categorical\",\n",
        "    class_names=None,\n",
        "    color_mode=\"rgb\",\n",
        "    batch_size=32,\n",
        "    image_size=(64, 64),\n",
        "    shuffle=True,\n",
        "    seed=None,\n",
        "    validation_split=None,\n",
        "    subset=None,\n",
        "    interpolation=\"bilinear\",\n",
        "    follow_links=False,\n",
        "    crop_to_aspect_ratio=False\n",
        ")"
      ]
    },
    {
      "cell_type": "markdown",
      "metadata": {
        "id": "WUZCK8Aw478-"
      },
      "source": [
        "#Building Model"
      ]
    },
    {
      "cell_type": "code",
      "execution_count": null,
      "metadata": {
        "id": "rhQABoRz5JsA"
      },
      "outputs": [],
      "source": [
        "cnn = tf.keras.models.Sequential()"
      ]
    },
    {
      "cell_type": "markdown",
      "metadata": {
        "id": "Fvx6Phfx5dfC"
      },
      "source": [
        "#Building Convolution layer"
      ]
    },
    {
      "cell_type": "code",
      "execution_count": null,
      "metadata": {
        "id": "ArnnslZG5g4c"
      },
      "outputs": [],
      "source": [
        "cnn.add(tf.keras.layers.Conv2D(filters=32,kernel_size=3,padding='same',activation='relu',input_shape=[64,64,3]))\n",
        "cnn.add(tf.keras.layers.Conv2D(filters=32,kernel_size=3,activation='relu'))\n",
        "cnn.add(tf.keras.layers.MaxPool2D(pool_size=2,strides=2))"
      ]
    },
    {
      "cell_type": "code",
      "execution_count": null,
      "metadata": {
        "id": "Cx94Kq7z5_--"
      },
      "outputs": [],
      "source": [
        "cnn.add(tf.keras.layers.Dropout(0.25))"
      ]
    },
    {
      "cell_type": "code",
      "execution_count": null,
      "metadata": {
        "id": "U1AqknfS6CLw"
      },
      "outputs": [],
      "source": [
        "cnn.add(tf.keras.layers.Conv2D(filters=64,kernel_size=3,padding='same',activation='relu'))\n",
        "cnn.add(tf.keras.layers.Conv2D(filters=64,kernel_size=3,activation='relu'))\n",
        "cnn.add(tf.keras.layers.MaxPool2D(pool_size=2,strides=2))"
      ]
    },
    {
      "cell_type": "code",
      "execution_count": null,
      "metadata": {
        "id": "vX8h8sSs6FYl"
      },
      "outputs": [],
      "source": [
        "cnn.add(tf.keras.layers.Dropout(0.25))"
      ]
    },
    {
      "cell_type": "code",
      "execution_count": null,
      "metadata": {
        "id": "oEJNbjlv6LXe"
      },
      "outputs": [],
      "source": [
        "cnn.add(tf.keras.layers.Flatten())"
      ]
    },
    {
      "cell_type": "code",
      "execution_count": null,
      "metadata": {
        "id": "qI0qoh0L6Lpx"
      },
      "outputs": [],
      "source": [
        "cnn.add(tf.keras.layers.Dense(units=512,activation='relu'))"
      ]
    },
    {
      "cell_type": "code",
      "execution_count": null,
      "metadata": {
        "id": "H4yNiZnE6Lz0"
      },
      "outputs": [],
      "source": [
        "cnn.add(tf.keras.layers.Dense(units=256,activation='relu'))"
      ]
    },
    {
      "cell_type": "code",
      "execution_count": null,
      "metadata": {
        "id": "EbFO9mWp6L-t"
      },
      "outputs": [],
      "source": [
        "cnn.add(tf.keras.layers.Dropout(0.5)) #To avoid overfitting"
      ]
    },
    {
      "cell_type": "code",
      "execution_count": null,
      "metadata": {
        "id": "2C_wKLVr6UsL"
      },
      "outputs": [],
      "source": [
        "#Output Layer\n",
        "cnn.add(tf.keras.layers.Dense(units=46,activation='softmax'))"
      ]
    },
    {
      "cell_type": "markdown",
      "metadata": {
        "id": "3oBF599t6ruc"
      },
      "source": [
        "#Compiling and Training Phase"
      ]
    },
    {
      "cell_type": "code",
      "execution_count": null,
      "metadata": {
        "id": "QxMhasdv6yN2"
      },
      "outputs": [],
      "source": [
        "cnn.compile(optimizer='adam',loss='categorical_crossentropy',metrics=['accuracy'])\n"
      ]
    },
    {
      "cell_type": "code",
      "execution_count": null,
      "metadata": {
        "colab": {
          "base_uri": "https://localhost:8080/"
        },
        "id": "jQ_kUUlJ7GKT",
        "outputId": "76e4a775-cc44-4650-f49e-b226c8fe9a36"
      },
      "outputs": [
        {
          "name": "stdout",
          "output_type": "stream",
          "text": [
            "Model: \"sequential\"\n",
            "_________________________________________________________________\n",
            " Layer (type)                Output Shape              Param #   \n",
            "=================================================================\n",
            " conv2d (Conv2D)             (None, 64, 64, 32)        896       \n",
            "                                                                 \n",
            " conv2d_1 (Conv2D)           (None, 62, 62, 32)        9248      \n",
            "                                                                 \n",
            " max_pooling2d (MaxPooling2  (None, 31, 31, 32)        0         \n",
            " D)                                                              \n",
            "                                                                 \n",
            " dropout (Dropout)           (None, 31, 31, 32)        0         \n",
            "                                                                 \n",
            " conv2d_2 (Conv2D)           (None, 31, 31, 64)        18496     \n",
            "                                                                 \n",
            " conv2d_3 (Conv2D)           (None, 29, 29, 64)        36928     \n",
            "                                                                 \n",
            " max_pooling2d_1 (MaxPoolin  (None, 14, 14, 64)        0         \n",
            " g2D)                                                            \n",
            "                                                                 \n",
            " dropout_1 (Dropout)         (None, 14, 14, 64)        0         \n",
            "                                                                 \n",
            " flatten (Flatten)           (None, 12544)             0         \n",
            "                                                                 \n",
            " dense (Dense)               (None, 512)               6423040   \n",
            "                                                                 \n",
            " dense_1 (Dense)             (None, 256)               131328    \n",
            "                                                                 \n",
            " dropout_2 (Dropout)         (None, 256)               0         \n",
            "                                                                 \n",
            " dense_2 (Dense)             (None, 46)                11822     \n",
            "                                                                 \n",
            "=================================================================\n",
            "Total params: 6631758 (25.30 MB)\n",
            "Trainable params: 6631758 (25.30 MB)\n",
            "Non-trainable params: 0 (0.00 Byte)\n",
            "_________________________________________________________________\n"
          ]
        }
      ],
      "source": [
        "cnn.summary()"
      ]
    },
    {
      "cell_type": "code",
      "execution_count": null,
      "metadata": {
        "colab": {
          "background_save": true,
          "base_uri": "https://localhost:8080/"
        },
        "id": "A7l4jQA07X_a",
        "outputId": "51190348-27d6-489b-b181-16cd9c95e794"
      },
      "outputs": [
        {
          "name": "stdout",
          "output_type": "stream",
          "text": [
            "Epoch 1/32\n",
            "129/129 [==============================] - 745s 5s/step - loss: 6.9918 - accuracy: 0.0211 - val_loss: 3.8283 - val_accuracy: 0.0240\n",
            "Epoch 2/32\n",
            "129/129 [==============================] - 161s 1s/step - loss: 3.7959 - accuracy: 0.0369 - val_loss: 3.7288 - val_accuracy: 0.0566\n",
            "Epoch 3/32\n",
            "129/129 [==============================] - 162s 1s/step - loss: 3.7167 - accuracy: 0.0578 - val_loss: 3.7069 - val_accuracy: 0.0588\n",
            "Epoch 4/32\n",
            "129/129 [==============================] - 159s 1s/step - loss: 3.6767 - accuracy: 0.0600 - val_loss: 3.6306 - val_accuracy: 0.0828\n",
            "Epoch 5/32\n",
            "129/129 [==============================] - 161s 1s/step - loss: 3.6457 - accuracy: 0.0719 - val_loss: 3.5563 - val_accuracy: 0.1046\n",
            "Epoch 6/32\n",
            "129/129 [==============================] - 162s 1s/step - loss: 3.6060 - accuracy: 0.0887 - val_loss: 3.4809 - val_accuracy: 0.1438\n",
            "Epoch 7/32\n",
            "129/129 [==============================] - 165s 1s/step - loss: 3.5305 - accuracy: 0.1003 - val_loss: 3.3651 - val_accuracy: 0.1699\n",
            "Epoch 8/32\n",
            "129/129 [==============================] - 164s 1s/step - loss: 3.4018 - accuracy: 0.1336 - val_loss: 3.0536 - val_accuracy: 0.2200\n",
            "Epoch 9/32\n",
            "129/129 [==============================] - 157s 1s/step - loss: 3.1606 - accuracy: 0.1708 - val_loss: 2.9700 - val_accuracy: 0.2418\n",
            "Epoch 10/32\n",
            "129/129 [==============================] - 170s 1s/step - loss: 2.9778 - accuracy: 0.2077 - val_loss: 2.6222 - val_accuracy: 0.3333\n",
            "Epoch 11/32\n",
            "113/129 [=========================>....] - ETA: 17s - loss: 2.8014 - accuracy: 0.2450"
          ]
        }
      ],
      "source": [
        "training_history = cnn.fit(x=training_set,validation_data=validation_set,epochs=32)"
      ]
    },
    {
      "cell_type": "markdown",
      "metadata": {
        "id": "4cevn0Cqfq4f"
      },
      "source": [
        "##Evaluating Model"
      ]
    },
    {
      "cell_type": "code",
      "execution_count": null,
      "metadata": {
        "colab": {
          "base_uri": "https://localhost:8080/"
        },
        "id": "BDXYh5RNftUT",
        "outputId": "e8b433a9-a5f2-4b22-dfa5-dedcb49b9233"
      },
      "outputs": [
        {
          "name": "stdout",
          "output_type": "stream",
          "text": [
            "129/129 [==============================] - 106s 796ms/step - loss: 0.0625 - accuracy: 0.9845\n",
            "Training accuracy: 0.9844546914100647\n"
          ]
        }
      ],
      "source": [
        "#Training set Accuracy\n",
        "train_loss, train_acc = cnn.evaluate(training_set)\n",
        "print('Training accuracy:', train_acc)"
      ]
    },
    {
      "cell_type": "code",
      "execution_count": null,
      "metadata": {
        "colab": {
          "base_uri": "https://localhost:8080/"
        },
        "id": "emxAgWkpgnVa",
        "outputId": "69a9cc86-e663-4d64-94b6-390a930ff721"
      },
      "outputs": [
        {
          "name": "stdout",
          "output_type": "stream",
          "text": [
            "15/15 [==============================] - 14s 315ms/step - loss: 0.7168 - accuracy: 0.8867\n",
            "Validation accuracy: 0.8867102265357971\n"
          ]
        }
      ],
      "source": [
        "#Validation set Accuracy\n",
        "val_loss, val_acc = cnn.evaluate(validation_set)\n",
        "print('Validation accuracy:', val_acc)\n"
      ]
    },
    {
      "cell_type": "markdown",
      "metadata": {
        "id": "3qa5sUhugwzC"
      },
      "source": [
        "##Saving Model"
      ]
    },
    {
      "cell_type": "code",
      "execution_count": null,
      "metadata": {
        "colab": {
          "base_uri": "https://localhost:8080/",
          "height": 175
        },
        "id": "MdCOra6jgylA",
        "outputId": "071fcb1e-5ccb-461d-dcd7-a691fa859fc1"
      },
      "outputs": [
        {
          "ename": "NameError",
          "evalue": "ignored",
          "output_type": "error",
          "traceback": [
            "\u001b[0;31m---------------------------------------------------------------------------\u001b[0m",
            "\u001b[0;31mNameError\u001b[0m                                 Traceback (most recent call last)",
            "\u001b[0;32m<ipython-input-4-722729427243>\u001b[0m in \u001b[0;36m<cell line: 1>\u001b[0;34m()\u001b[0m\n\u001b[0;32m----> 1\u001b[0;31m \u001b[0mcnn\u001b[0m\u001b[0;34m.\u001b[0m\u001b[0msave\u001b[0m\u001b[0;34m(\u001b[0m\u001b[0;34m'trained_model.h5'\u001b[0m\u001b[0;34m)\u001b[0m\u001b[0;34m\u001b[0m\u001b[0;34m\u001b[0m\u001b[0m\n\u001b[0m",
            "\u001b[0;31mNameError\u001b[0m: name 'cnn' is not defined"
          ]
        }
      ],
      "source": [
        "cnn.save('trained_model.h5')"
      ]
    },
    {
      "cell_type": "code",
      "execution_count": null,
      "metadata": {
        "colab": {
          "base_uri": "https://localhost:8080/"
        },
        "id": "lsnXLTC_hHlP",
        "outputId": "2abf9819-36f1-433e-f67b-ad65eeed5ade"
      },
      "outputs": [
        {
          "data": {
            "text/plain": [
              "{'loss': [8.081548690795898,\n",
              "  3.7963314056396484,\n",
              "  3.6145119667053223,\n",
              "  3.427704334259033,\n",
              "  3.335803270339966,\n",
              "  3.1488726139068604,\n",
              "  2.979336738586426,\n",
              "  2.7955844402313232,\n",
              "  2.6081089973449707,\n",
              "  2.4687340259552,\n",
              "  2.1657614707946777,\n",
              "  1.9606437683105469,\n",
              "  1.829230785369873,\n",
              "  1.5380703210830688,\n",
              "  1.3812326192855835,\n",
              "  1.2425519227981567,\n",
              "  1.103662371635437,\n",
              "  0.944428563117981,\n",
              "  0.8440113663673401,\n",
              "  0.7357413172721863,\n",
              "  0.6862757205963135,\n",
              "  0.5514567494392395,\n",
              "  0.5346470475196838,\n",
              "  0.505726158618927,\n",
              "  0.47018808126449585,\n",
              "  0.411493718624115,\n",
              "  0.3674148619174957,\n",
              "  0.3007037937641144,\n",
              "  0.3867807388305664,\n",
              "  0.2981170117855072,\n",
              "  0.2581191658973694,\n",
              "  0.27460721135139465],\n",
              " 'accuracy': [0.019674520939588547,\n",
              "  0.034248240292072296,\n",
              "  0.04615011066198349,\n",
              "  0.0582948736846447,\n",
              "  0.0959436446428299,\n",
              "  0.12387660890817642,\n",
              "  0.16419723629951477,\n",
              "  0.2093757539987564,\n",
              "  0.2523682415485382,\n",
              "  0.3031333386898041,\n",
              "  0.3789166808128357,\n",
              "  0.4289531111717224,\n",
              "  0.4700024425983429,\n",
              "  0.5452999472618103,\n",
              "  0.5921787619590759,\n",
              "  0.6283701658248901,\n",
              "  0.6631041765213013,\n",
              "  0.7148408889770508,\n",
              "  0.7493320107460022,\n",
              "  0.7792081832885742,\n",
              "  0.8017974495887756,\n",
              "  0.8370172381401062,\n",
              "  0.8421180248260498,\n",
              "  0.854505717754364,\n",
              "  0.8673791885375977,\n",
              "  0.8800097107887268,\n",
              "  0.8967694640159607,\n",
              "  0.9154724478721619,\n",
              "  0.8943405151367188,\n",
              "  0.916201114654541,\n",
              "  0.9268885254859924,\n",
              "  0.9293174743652344],\n",
              " 'val_loss': [3.8273420333862305,\n",
              "  3.831228256225586,\n",
              "  3.4546589851379395,\n",
              "  3.3263838291168213,\n",
              "  3.212925434112549,\n",
              "  2.8704304695129395,\n",
              "  2.609250068664551,\n",
              "  2.333402395248413,\n",
              "  2.2272350788116455,\n",
              "  1.895198941230774,\n",
              "  1.5238747596740723,\n",
              "  1.347455620765686,\n",
              "  1.2303063869476318,\n",
              "  0.8782232999801636,\n",
              "  0.9236735701560974,\n",
              "  0.8158910274505615,\n",
              "  0.763639509677887,\n",
              "  0.7697662115097046,\n",
              "  0.6696059703826904,\n",
              "  0.799046516418457,\n",
              "  0.6780880689620972,\n",
              "  0.7844222187995911,\n",
              "  0.727123498916626,\n",
              "  0.6590631604194641,\n",
              "  0.683312714099884,\n",
              "  0.7336755394935608,\n",
              "  0.7128117680549622,\n",
              "  0.7833288908004761,\n",
              "  0.7063446640968323,\n",
              "  0.6769635081291199,\n",
              "  0.6259093284606934,\n",
              "  0.7168354392051697],\n",
              " 'val_accuracy': [0.026143791154026985,\n",
              "  0.0239651408046484,\n",
              "  0.056644879281520844,\n",
              "  0.11328975856304169,\n",
              "  0.13071896135807037,\n",
              "  0.16775599122047424,\n",
              "  0.29193899035453796,\n",
              "  0.37472766637802124,\n",
              "  0.41830065846443176,\n",
              "  0.5359477400779724,\n",
              "  0.6056644916534424,\n",
              "  0.6296296119689941,\n",
              "  0.686274528503418,\n",
              "  0.7886710166931152,\n",
              "  0.7603485584259033,\n",
              "  0.8213507533073425,\n",
              "  0.8322439789772034,\n",
              "  0.8169934749603271,\n",
              "  0.8344226479530334,\n",
              "  0.8344226479530334,\n",
              "  0.85838782787323,\n",
              "  0.8671023845672607,\n",
              "  0.8627451062202454,\n",
              "  0.8714597225189209,\n",
              "  0.8758170008659363,\n",
              "  0.8692810535430908,\n",
              "  0.8779956698417664,\n",
              "  0.8758170008659363,\n",
              "  0.8736383318901062,\n",
              "  0.8867102265357971,\n",
              "  0.8845316171646118,\n",
              "  0.8867102265357971]}"
            ]
          },
          "execution_count": 24,
          "metadata": {},
          "output_type": "execute_result"
        }
      ],
      "source": [
        "training_history.history #Return Dictionary of history"
      ]
    },
    {
      "cell_type": "code",
      "execution_count": null,
      "metadata": {
        "id": "UkNy5PCDha71"
      },
      "outputs": [],
      "source": [
        "#Recording History in json\n",
        "import json\n",
        "with open('training_hist.json','w') as f:\n",
        "  json.dump(training_history.history,f)"
      ]
    },
    {
      "cell_type": "code",
      "execution_count": null,
      "metadata": {
        "colab": {
          "base_uri": "https://localhost:8080/"
        },
        "id": "mPgF2o4mhfSU",
        "outputId": "f8a8d577-0e20-485f-c70f-381beb0663c9"
      },
      "outputs": [
        {
          "name": "stdout",
          "output_type": "stream",
          "text": [
            "dict_keys(['loss', 'accuracy', 'val_loss', 'val_accuracy'])\n"
          ]
        }
      ],
      "source": [
        "print(training_history.history.keys())"
      ]
    },
    {
      "cell_type": "markdown",
      "metadata": {
        "id": "AmumuSDkhjsU"
      },
      "source": [
        "##Calculating Accuracy of Model Achieved on Validation Set"
      ]
    },
    {
      "cell_type": "code",
      "execution_count": null,
      "metadata": {
        "colab": {
          "base_uri": "https://localhost:8080/"
        },
        "id": "5jIRC9Bohqtf",
        "outputId": "d5696b9c-b55c-4a49-9ee3-65bc19d7e798"
      },
      "outputs": [
        {
          "name": "stdout",
          "output_type": "stream",
          "text": [
            "Validation set Accuracy: 88.67102265357971 %\n"
          ]
        }
      ],
      "source": [
        "print(\"Validation set Accuracy: {} %\".format(training_history.history['val_accuracy'][-1]*100))"
      ]
    },
    {
      "cell_type": "markdown",
      "metadata": {
        "id": "HLa0nLk6uRkq"
      },
      "source": [
        "#Accuracy Visualization"
      ]
    },
    {
      "cell_type": "markdown",
      "metadata": {
        "id": "lLmxIfUUu1Y3"
      },
      "source": [
        "##Training Visualization"
      ]
    },
    {
      "cell_type": "code",
      "execution_count": null,
      "metadata": {
        "colab": {
          "base_uri": "https://localhost:8080/",
          "height": 472
        },
        "id": "wGx-8S9DuUKg",
        "outputId": "45418cd3-d691-43c7-8aec-5447ee2ba416"
      },
      "outputs": [
        {
          "data": {
            "image/png": "[encoded data removed]",
            "text/plain": [
              "<Figure size 640x480 with 1 Axes>"
            ]
          },
          "metadata": {},
          "output_type": "display_data"
        }
      ],
      "source": [
        "epochs = [i for i in range(1,33)]\n",
        "plt.plot(epochs,training_history.history['accuracy'],color='red')\n",
        "plt.xlabel('No. of Epochs')\n",
        "plt.ylabel('Traiining Accuracy')\n",
        "plt.title('Visualization of Training Accuracy Result')\n",
        "plt.show()"
      ]
    },
    {
      "cell_type": "markdown",
      "metadata": {
        "id": "UlH3Sn0ovHK3"
      },
      "source": [
        "##Validation Accuracy"
      ]
    },
    {
      "cell_type": "code",
      "execution_count": null,
      "metadata": {
        "colab": {
          "base_uri": "https://localhost:8080/",
          "height": 472
        },
        "id": "hVamsbKNvJGD",
        "outputId": "26ca51ec-4e9c-4fcd-9490-9ce8d6b16ae8"
      },
      "outputs": [
        {
          "data": {
            "image/png": "[encoded data removed]",
            "text/plain": [
              "<Figure size 640x480 with 1 Axes>"
            ]
          },
          "metadata": {},
          "output_type": "display_data"
        }
      ],
      "source": [
        "plt.plot(epochs,training_history.history['val_accuracy'],color='blue')\n",
        "plt.xlabel('No. of Epochs')\n",
        "plt.ylabel('Validation Accuracy')\n",
        "plt.title('Visualization of Validation Accuracy Result')\n",
        "plt.show()"
      ]
    },
    {
      "cell_type": "markdown",
      "metadata": {
        "id": "hzCBhGypvP0G"
      },
      "source": [
        "##Test Set Evaluation"
      ]
    },
    {
      "cell_type": "code",
      "execution_count": null,
      "metadata": {
        "colab": {
          "base_uri": "https://localhost:8080/"
        },
        "id": "eX9zYth_vPhI",
        "outputId": "5c2466ac-2072-4998-b146-5d746d9598e5"
      },
      "outputs": [
        {
          "name": "stdout",
          "output_type": "stream",
          "text": [
            "Found 460 files belonging to 46 classes.\n"
          ]
        }
      ],
      "source": [
        "test_set = tf.keras.utils.image_dataset_from_directory(\n",
        "    '/content/drive/MyDrive/inswap_dataset/test',\n",
        "    labels=\"inferred\",\n",
        "    label_mode=\"categorical\",\n",
        "    class_names=None,\n",
        "    color_mode=\"rgb\",\n",
        "    batch_size=32,\n",
        "    image_size=(64, 64),\n",
        "    shuffle=True,\n",
        "    seed=None,\n",
        "    validation_split=None,\n",
        "    subset=None,\n",
        "    interpolation=\"bilinear\",\n",
        "    follow_links=False,\n",
        "    crop_to_aspect_ratio=False\n",
        ")"
      ]
    },
    {
      "cell_type": "code",
      "execution_count": null,
      "metadata": {
        "colab": {
          "base_uri": "https://localhost:8080/"
        },
        "id": "QibCYaqmwD3n",
        "outputId": "717bfd93-b0ac-437f-a1e9-84e6ae4efc57"
      },
      "outputs": [
        {
          "name": "stdout",
          "output_type": "stream",
          "text": [
            "15/15 [==============================] - 93s 3s/step - loss: 0.6257 - accuracy: 0.9000\n",
            "Test accuracy: 0.8999999761581421\n"
          ]
        }
      ],
      "source": [
        "test_loss,test_acc = cnn.evaluate(test_set)\n",
        "print('Test accuracy:', test_acc)"
      ]
    },
    {
      "cell_type": "code",
      "execution_count": null,
      "metadata": {
        "colab": {
          "base_uri": "https://localhost:8080/",
          "height": 210
        },
        "id": "DlOsei9K9b_1",
        "outputId": "fe8441c4-5ffd-44a7-90b0-3caf672376f0"
      },
      "outputs": [
        {
          "ename": "NameError",
          "evalue": "ignored",
          "output_type": "error",
          "traceback": [
            "\u001b[0;31m---------------------------------------------------------------------------\u001b[0m",
            "\u001b[0;31mNameError\u001b[0m                                 Traceback (most recent call last)",
            "\u001b[0;32m<ipython-input-1-727294f37724>\u001b[0m in \u001b[0;36m<cell line: 2>\u001b[0;34m()\u001b[0m\n\u001b[1;32m      1\u001b[0m \u001b[0;31m# Convert the SavedModel to TensorFlow Lite format\u001b[0m\u001b[0;34m\u001b[0m\u001b[0;34m\u001b[0m\u001b[0m\n\u001b[0;32m----> 2\u001b[0;31m \u001b[0mconverter\u001b[0m \u001b[0;34m=\u001b[0m \u001b[0mtf\u001b[0m\u001b[0;34m.\u001b[0m\u001b[0mlite\u001b[0m\u001b[0;34m.\u001b[0m\u001b[0mTFLiteConverter\u001b[0m\u001b[0;34m.\u001b[0m\u001b[0mfrom_saved_model\u001b[0m\u001b[0;34m(\u001b[0m\u001b[0msaved_model_path\u001b[0m\u001b[0;34m)\u001b[0m\u001b[0;34m\u001b[0m\u001b[0;34m\u001b[0m\u001b[0m\n\u001b[0m\u001b[1;32m      3\u001b[0m \u001b[0mtflite_model\u001b[0m \u001b[0;34m=\u001b[0m \u001b[0mconverter\u001b[0m\u001b[0;34m.\u001b[0m\u001b[0mconvert\u001b[0m\u001b[0;34m(\u001b[0m\u001b[0;34m)\u001b[0m\u001b[0;34m\u001b[0m\u001b[0;34m\u001b[0m\u001b[0m\n",
            "\u001b[0;31mNameError\u001b[0m: name 'tf' is not defined"
          ]
        }
      ],
      "source": [
        "# Convert the SavedModel to TensorFlow Lite format\n",
        "converter = tf.lite.TFLiteConverter.from_saved_model(saved_model_path)\n",
        "tflite_model = converter.convert()"
      ]
    }
  ],
  "metadata": {
    "colab": {
      "provenance": []
    },
    "kernelspec": {
      "display_name": "Python 3",
      "name": "python3"
    },
    "language_info": {
      "name": "python"
    }
  },
  "nbformat": 4,
  "nbformat_minor": 0
}